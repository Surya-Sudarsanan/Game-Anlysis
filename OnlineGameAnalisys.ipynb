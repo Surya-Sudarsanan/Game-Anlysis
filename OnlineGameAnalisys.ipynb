{
 "cells": [
  {
   "cell_type": "code",
   "execution_count": 1,
   "id": "ae60821d-0ff7-42f5-865d-68883e452c04",
   "metadata": {},
   "outputs": [],
   "source": [
    "import pandas as pd"
   ]
  },
  {
   "cell_type": "code",
   "execution_count": 2,
   "id": "0ee42d91-28d6-4747-b0ed-25861687c54a",
   "metadata": {},
   "outputs": [],
   "source": [
    "game_df = pd.read_csv('UserGameplayData.csv')"
   ]
  },
  {
   "cell_type": "code",
   "execution_count": 3,
   "id": "0505094e-c97f-4323-9c52-a21df8826079",
   "metadata": {},
   "outputs": [
    {
     "data": {
      "text/html": [
       "<div>\n",
       "<style scoped>\n",
       "    .dataframe tbody tr th:only-of-type {\n",
       "        vertical-align: middle;\n",
       "    }\n",
       "\n",
       "    .dataframe tbody tr th {\n",
       "        vertical-align: top;\n",
       "    }\n",
       "\n",
       "    .dataframe thead th {\n",
       "        text-align: right;\n",
       "    }\n",
       "</style>\n",
       "<table border=\"1\" class=\"dataframe\">\n",
       "  <thead>\n",
       "    <tr style=\"text-align: right;\">\n",
       "      <th></th>\n",
       "      <th>User ID</th>\n",
       "      <th>Games Played</th>\n",
       "      <th>Datetime</th>\n",
       "    </tr>\n",
       "  </thead>\n",
       "  <tbody>\n",
       "    <tr>\n",
       "      <th>0</th>\n",
       "      <td>851</td>\n",
       "      <td>1</td>\n",
       "      <td>01-10-2022 00:00</td>\n",
       "    </tr>\n",
       "    <tr>\n",
       "      <th>1</th>\n",
       "      <td>717</td>\n",
       "      <td>1</td>\n",
       "      <td>01-10-2022 00:00</td>\n",
       "    </tr>\n",
       "    <tr>\n",
       "      <th>2</th>\n",
       "      <td>456</td>\n",
       "      <td>1</td>\n",
       "      <td>01-10-2022 00:00</td>\n",
       "    </tr>\n",
       "    <tr>\n",
       "      <th>3</th>\n",
       "      <td>424</td>\n",
       "      <td>1</td>\n",
       "      <td>01-10-2022 00:00</td>\n",
       "    </tr>\n",
       "    <tr>\n",
       "      <th>4</th>\n",
       "      <td>845</td>\n",
       "      <td>1</td>\n",
       "      <td>01-10-2022 00:00</td>\n",
       "    </tr>\n",
       "  </tbody>\n",
       "</table>\n",
       "</div>"
      ],
      "text/plain": [
       "   User ID  Games Played          Datetime\n",
       "0      851             1  01-10-2022 00:00\n",
       "1      717             1  01-10-2022 00:00\n",
       "2      456             1  01-10-2022 00:00\n",
       "3      424             1  01-10-2022 00:00\n",
       "4      845             1  01-10-2022 00:00"
      ]
     },
     "execution_count": 3,
     "metadata": {},
     "output_type": "execute_result"
    }
   ],
   "source": [
    "game_df.head()"
   ]
  },
  {
   "cell_type": "code",
   "execution_count": 4,
   "id": "52ea0b93-a098-40b8-a8a0-fb159fbd9306",
   "metadata": {},
   "outputs": [],
   "source": [
    "game_df.rename(columns = {'User ID' : 'User Id'}, inplace = True)"
   ]
  },
  {
   "cell_type": "code",
   "execution_count": 5,
   "id": "e94b388f-5642-422e-9874-844c59aac6fb",
   "metadata": {},
   "outputs": [
    {
     "data": {
      "text/plain": [
       "User Id         0\n",
       "Games Played    0\n",
       "Datetime        0\n",
       "dtype: int64"
      ]
     },
     "execution_count": 5,
     "metadata": {},
     "output_type": "execute_result"
    }
   ],
   "source": [
    "game_df.isnull().sum()"
   ]
  },
  {
   "cell_type": "code",
   "execution_count": 6,
   "id": "c07315d7-a56c-4edc-86f7-597d4206736f",
   "metadata": {},
   "outputs": [
    {
     "data": {
      "text/plain": [
       "(355266, 3)"
      ]
     },
     "execution_count": 6,
     "metadata": {},
     "output_type": "execute_result"
    }
   ],
   "source": [
    "game_df.shape"
   ]
  },
  {
   "cell_type": "code",
   "execution_count": 7,
   "id": "7eddbfa0-7d3d-46a5-928c-005d6b2d2d62",
   "metadata": {},
   "outputs": [],
   "source": [
    "deposit_df = pd.read_csv('DepositData.csv')"
   ]
  },
  {
   "cell_type": "code",
   "execution_count": 8,
   "id": "fcedf991-0fe9-4310-be93-0f49f3ed96cf",
   "metadata": {},
   "outputs": [
    {
     "data": {
      "text/html": [
       "<div>\n",
       "<style scoped>\n",
       "    .dataframe tbody tr th:only-of-type {\n",
       "        vertical-align: middle;\n",
       "    }\n",
       "\n",
       "    .dataframe tbody tr th {\n",
       "        vertical-align: top;\n",
       "    }\n",
       "\n",
       "    .dataframe thead th {\n",
       "        text-align: right;\n",
       "    }\n",
       "</style>\n",
       "<table border=\"1\" class=\"dataframe\">\n",
       "  <thead>\n",
       "    <tr style=\"text-align: right;\">\n",
       "      <th></th>\n",
       "      <th>User Id</th>\n",
       "      <th>Datetime</th>\n",
       "      <th>Amount</th>\n",
       "    </tr>\n",
       "  </thead>\n",
       "  <tbody>\n",
       "    <tr>\n",
       "      <th>0</th>\n",
       "      <td>357</td>\n",
       "      <td>01-10-2022 00:03</td>\n",
       "      <td>2000</td>\n",
       "    </tr>\n",
       "    <tr>\n",
       "      <th>1</th>\n",
       "      <td>776</td>\n",
       "      <td>01-10-2022 00:03</td>\n",
       "      <td>2500</td>\n",
       "    </tr>\n",
       "    <tr>\n",
       "      <th>2</th>\n",
       "      <td>492</td>\n",
       "      <td>01-10-2022 00:06</td>\n",
       "      <td>5000</td>\n",
       "    </tr>\n",
       "    <tr>\n",
       "      <th>3</th>\n",
       "      <td>803</td>\n",
       "      <td>01-10-2022 00:07</td>\n",
       "      <td>5000</td>\n",
       "    </tr>\n",
       "    <tr>\n",
       "      <th>4</th>\n",
       "      <td>875</td>\n",
       "      <td>01-10-2022 00:09</td>\n",
       "      <td>1500</td>\n",
       "    </tr>\n",
       "  </tbody>\n",
       "</table>\n",
       "</div>"
      ],
      "text/plain": [
       "   User Id          Datetime  Amount\n",
       "0      357  01-10-2022 00:03    2000\n",
       "1      776  01-10-2022 00:03    2500\n",
       "2      492  01-10-2022 00:06    5000\n",
       "3      803  01-10-2022 00:07    5000\n",
       "4      875  01-10-2022 00:09    1500"
      ]
     },
     "execution_count": 8,
     "metadata": {},
     "output_type": "execute_result"
    }
   ],
   "source": [
    "deposit_df.head()"
   ]
  },
  {
   "cell_type": "code",
   "execution_count": 9,
   "id": "afd3b57b-bbb4-4faa-aaa8-beb2973d764e",
   "metadata": {},
   "outputs": [
    {
     "data": {
      "text/plain": [
       "(17438, 3)"
      ]
     },
     "execution_count": 9,
     "metadata": {},
     "output_type": "execute_result"
    }
   ],
   "source": [
    "deposit_df.shape"
   ]
  },
  {
   "cell_type": "code",
   "execution_count": 10,
   "id": "7e00b23b-c5d9-4ba1-a178-b38472afb876",
   "metadata": {},
   "outputs": [
    {
     "data": {
      "text/plain": [
       "User Id     0\n",
       "Datetime    0\n",
       "Amount      0\n",
       "dtype: int64"
      ]
     },
     "execution_count": 10,
     "metadata": {},
     "output_type": "execute_result"
    }
   ],
   "source": [
    "deposit_df.isnull().sum()"
   ]
  },
  {
   "cell_type": "code",
   "execution_count": 11,
   "id": "8516cb40-5d47-49cc-a66c-cf179a99833d",
   "metadata": {},
   "outputs": [],
   "source": [
    "deposit_df.rename(columns = {'Amount' : 'Deposit'}, inplace = True)"
   ]
  },
  {
   "cell_type": "code",
   "execution_count": 12,
   "id": "718f0d64-7ca8-4a0b-9140-aa3fbd790101",
   "metadata": {},
   "outputs": [],
   "source": [
    "withdrawal_df = pd.read_csv('WithdrawalData.csv')"
   ]
  },
  {
   "cell_type": "code",
   "execution_count": 13,
   "id": "f28bc118-3cb4-4780-9867-72dfc85f4773",
   "metadata": {},
   "outputs": [
    {
     "data": {
      "text/html": [
       "<div>\n",
       "<style scoped>\n",
       "    .dataframe tbody tr th:only-of-type {\n",
       "        vertical-align: middle;\n",
       "    }\n",
       "\n",
       "    .dataframe tbody tr th {\n",
       "        vertical-align: top;\n",
       "    }\n",
       "\n",
       "    .dataframe thead th {\n",
       "        text-align: right;\n",
       "    }\n",
       "</style>\n",
       "<table border=\"1\" class=\"dataframe\">\n",
       "  <thead>\n",
       "    <tr style=\"text-align: right;\">\n",
       "      <th></th>\n",
       "      <th>User Id</th>\n",
       "      <th>Datetime</th>\n",
       "      <th>Amount</th>\n",
       "    </tr>\n",
       "  </thead>\n",
       "  <tbody>\n",
       "    <tr>\n",
       "      <th>0</th>\n",
       "      <td>190</td>\n",
       "      <td>01-10-2022 00:03</td>\n",
       "      <td>5872</td>\n",
       "    </tr>\n",
       "    <tr>\n",
       "      <th>1</th>\n",
       "      <td>159</td>\n",
       "      <td>01-10-2022 00:16</td>\n",
       "      <td>9540</td>\n",
       "    </tr>\n",
       "    <tr>\n",
       "      <th>2</th>\n",
       "      <td>164</td>\n",
       "      <td>01-10-2022 00:24</td>\n",
       "      <td>815</td>\n",
       "    </tr>\n",
       "    <tr>\n",
       "      <th>3</th>\n",
       "      <td>946</td>\n",
       "      <td>01-10-2022 00:29</td>\n",
       "      <td>23000</td>\n",
       "    </tr>\n",
       "    <tr>\n",
       "      <th>4</th>\n",
       "      <td>763</td>\n",
       "      <td>01-10-2022 00:40</td>\n",
       "      <td>9473</td>\n",
       "    </tr>\n",
       "  </tbody>\n",
       "</table>\n",
       "</div>"
      ],
      "text/plain": [
       "   User Id          Datetime  Amount\n",
       "0      190  01-10-2022 00:03    5872\n",
       "1      159  01-10-2022 00:16    9540\n",
       "2      164  01-10-2022 00:24     815\n",
       "3      946  01-10-2022 00:29   23000\n",
       "4      763  01-10-2022 00:40    9473"
      ]
     },
     "execution_count": 13,
     "metadata": {},
     "output_type": "execute_result"
    }
   ],
   "source": [
    "withdrawal_df.head()"
   ]
  },
  {
   "cell_type": "code",
   "execution_count": 14,
   "id": "d7fdc5a7-92f8-4a12-a1f3-66141fe4b8cb",
   "metadata": {},
   "outputs": [
    {
     "data": {
      "text/plain": [
       "(3566, 3)"
      ]
     },
     "execution_count": 14,
     "metadata": {},
     "output_type": "execute_result"
    }
   ],
   "source": [
    "withdrawal_df.shape"
   ]
  },
  {
   "cell_type": "code",
   "execution_count": 15,
   "id": "81d5fcd8-f0a1-44ce-8f93-a50512b7c44f",
   "metadata": {},
   "outputs": [
    {
     "data": {
      "text/plain": [
       "User Id     0\n",
       "Datetime    0\n",
       "Amount      0\n",
       "dtype: int64"
      ]
     },
     "execution_count": 15,
     "metadata": {},
     "output_type": "execute_result"
    }
   ],
   "source": [
    "withdrawal_df.isnull().sum()"
   ]
  },
  {
   "cell_type": "code",
   "execution_count": 16,
   "id": "a904f89d-490e-4639-b617-c235bd30bad1",
   "metadata": {},
   "outputs": [],
   "source": [
    "withdrawal_df.rename(columns = {'Amount' : 'Withdrawal'}, inplace = True)"
   ]
  },
  {
   "cell_type": "code",
   "execution_count": 17,
   "id": "dd8c01cc-362d-41cc-bcb6-94ed94eb8740",
   "metadata": {},
   "outputs": [],
   "source": [
    "withdrawal_df['Datetime'] = pd.to_datetime(withdrawal_df['Datetime'],format='%d-%m-%Y %H:%M')"
   ]
  },
  {
   "cell_type": "code",
   "execution_count": 18,
   "id": "ba16caab-5339-452f-975c-72a9d4f2afa4",
   "metadata": {},
   "outputs": [],
   "source": [
    "deposit_df['Datetime'] = pd.to_datetime(deposit_df['Datetime'],format='%d-%m-%Y %H:%M')"
   ]
  },
  {
   "cell_type": "code",
   "execution_count": 19,
   "id": "c0c26e1e-cc16-4bc1-993e-78c67d4c90be",
   "metadata": {},
   "outputs": [],
   "source": [
    "game_df['Datetime'] = pd.to_datetime(game_df['Datetime'],format='%d-%m-%Y %H:%M')"
   ]
  },
  {
   "cell_type": "code",
   "execution_count": 20,
   "id": "3b32dbfb-8a89-4ce7-8066-77bd468b9ee0",
   "metadata": {},
   "outputs": [],
   "source": [
    "# separate date from date time and creating slot column"
   ]
  },
  {
   "cell_type": "code",
   "execution_count": 21,
   "id": "adb8506c-2722-4702-8eff-e53c2d16d068",
   "metadata": {},
   "outputs": [],
   "source": [
    "def slot(hour):\n",
    "    return \"S1\" if hour<12 else \"S2\"\n",
    "\n",
    "for df in [game_df,deposit_df, withdrawal_df]:\n",
    "    df['Date'] = df['Datetime'].dt.date\n",
    "    df['Slot'] = df['Datetime'].dt.hour.apply(slot)"
   ]
  },
  {
   "cell_type": "code",
   "execution_count": 22,
   "id": "26a442cc-5e5c-4e07-9d98-6b2d45bb8fb6",
   "metadata": {},
   "outputs": [
    {
     "data": {
      "text/html": [
       "<div>\n",
       "<style scoped>\n",
       "    .dataframe tbody tr th:only-of-type {\n",
       "        vertical-align: middle;\n",
       "    }\n",
       "\n",
       "    .dataframe tbody tr th {\n",
       "        vertical-align: top;\n",
       "    }\n",
       "\n",
       "    .dataframe thead th {\n",
       "        text-align: right;\n",
       "    }\n",
       "</style>\n",
       "<table border=\"1\" class=\"dataframe\">\n",
       "  <thead>\n",
       "    <tr style=\"text-align: right;\">\n",
       "      <th></th>\n",
       "      <th>User Id</th>\n",
       "      <th>Datetime</th>\n",
       "      <th>Withdrawal</th>\n",
       "      <th>Date</th>\n",
       "      <th>Slot</th>\n",
       "    </tr>\n",
       "  </thead>\n",
       "  <tbody>\n",
       "    <tr>\n",
       "      <th>0</th>\n",
       "      <td>190</td>\n",
       "      <td>2022-10-01 00:03:00</td>\n",
       "      <td>5872</td>\n",
       "      <td>2022-10-01</td>\n",
       "      <td>S1</td>\n",
       "    </tr>\n",
       "    <tr>\n",
       "      <th>1</th>\n",
       "      <td>159</td>\n",
       "      <td>2022-10-01 00:16:00</td>\n",
       "      <td>9540</td>\n",
       "      <td>2022-10-01</td>\n",
       "      <td>S1</td>\n",
       "    </tr>\n",
       "    <tr>\n",
       "      <th>2</th>\n",
       "      <td>164</td>\n",
       "      <td>2022-10-01 00:24:00</td>\n",
       "      <td>815</td>\n",
       "      <td>2022-10-01</td>\n",
       "      <td>S1</td>\n",
       "    </tr>\n",
       "    <tr>\n",
       "      <th>3</th>\n",
       "      <td>946</td>\n",
       "      <td>2022-10-01 00:29:00</td>\n",
       "      <td>23000</td>\n",
       "      <td>2022-10-01</td>\n",
       "      <td>S1</td>\n",
       "    </tr>\n",
       "    <tr>\n",
       "      <th>4</th>\n",
       "      <td>763</td>\n",
       "      <td>2022-10-01 00:40:00</td>\n",
       "      <td>9473</td>\n",
       "      <td>2022-10-01</td>\n",
       "      <td>S1</td>\n",
       "    </tr>\n",
       "  </tbody>\n",
       "</table>\n",
       "</div>"
      ],
      "text/plain": [
       "   User Id            Datetime  Withdrawal        Date Slot\n",
       "0      190 2022-10-01 00:03:00        5872  2022-10-01   S1\n",
       "1      159 2022-10-01 00:16:00        9540  2022-10-01   S1\n",
       "2      164 2022-10-01 00:24:00         815  2022-10-01   S1\n",
       "3      946 2022-10-01 00:29:00       23000  2022-10-01   S1\n",
       "4      763 2022-10-01 00:40:00        9473  2022-10-01   S1"
      ]
     },
     "execution_count": 22,
     "metadata": {},
     "output_type": "execute_result"
    }
   ],
   "source": [
    "df.head()"
   ]
  },
  {
   "cell_type": "code",
   "execution_count": 23,
   "id": "24885a0a-fedf-45ba-916a-ce19a97faf8a",
   "metadata": {},
   "outputs": [],
   "source": [
    "game = game_df.groupby(['User Id','Date','Slot'])['Games Played'].sum().reset_index()"
   ]
  },
  {
   "cell_type": "code",
   "execution_count": 24,
   "id": "b4e38eea-12ac-4943-9f0f-05050949cc9c",
   "metadata": {},
   "outputs": [],
   "source": [
    "deposit = deposit_df.groupby(['User Id','Date','Slot']).agg(Deposit_Amount=('Deposit','sum'),Deposit_Count=('Deposit','count')).reset_index()"
   ]
  },
  {
   "cell_type": "code",
   "execution_count": 25,
   "id": "fb17ebd9-1455-46fb-a84f-c1d4e66c7161",
   "metadata": {},
   "outputs": [],
   "source": [
    "withdrawal = withdrawal_df.groupby(['User Id','Date','Slot']).agg(withdrawal_Amount=('Withdrawal','sum'),withdrawal_Count=('Withdrawal','count')).reset_index()"
   ]
  },
  {
   "cell_type": "code",
   "execution_count": 26,
   "id": "c4414db8-26bb-4960-9ab0-b42178b3c164",
   "metadata": {},
   "outputs": [],
   "source": [
    "merged_df = pd.merge(game,deposit,on=['User Id','Date','Slot'],how='outer')"
   ]
  },
  {
   "cell_type": "code",
   "execution_count": 27,
   "id": "02d53b59-f43c-4313-8973-9750d7f27389",
   "metadata": {},
   "outputs": [],
   "source": [
    "merged_df = pd.merge(merged_df,withdrawal,on=['User Id','Date','Slot'],how='outer')"
   ]
  },
  {
   "cell_type": "code",
   "execution_count": 28,
   "id": "f86faf33-7d3d-4dfe-966e-36c07de4535d",
   "metadata": {},
   "outputs": [],
   "source": [
    "merged_df.fillna(0,inplace=True)"
   ]
  },
  {
   "cell_type": "code",
   "execution_count": 29,
   "id": "4de7d3e1-e4c0-4175-a6f2-8ad53705d68a",
   "metadata": {},
   "outputs": [
    {
     "data": {
      "text/html": [
       "<div>\n",
       "<style scoped>\n",
       "    .dataframe tbody tr th:only-of-type {\n",
       "        vertical-align: middle;\n",
       "    }\n",
       "\n",
       "    .dataframe tbody tr th {\n",
       "        vertical-align: top;\n",
       "    }\n",
       "\n",
       "    .dataframe thead th {\n",
       "        text-align: right;\n",
       "    }\n",
       "</style>\n",
       "<table border=\"1\" class=\"dataframe\">\n",
       "  <thead>\n",
       "    <tr style=\"text-align: right;\">\n",
       "      <th></th>\n",
       "      <th>User Id</th>\n",
       "      <th>Date</th>\n",
       "      <th>Slot</th>\n",
       "      <th>Games Played</th>\n",
       "      <th>Deposit_Amount</th>\n",
       "      <th>Deposit_Count</th>\n",
       "      <th>withdrawal_Amount</th>\n",
       "      <th>withdrawal_Count</th>\n",
       "    </tr>\n",
       "  </thead>\n",
       "  <tbody>\n",
       "    <tr>\n",
       "      <th>39046</th>\n",
       "      <td>980</td>\n",
       "      <td>2022-10-19</td>\n",
       "      <td>S1</td>\n",
       "      <td>0.0</td>\n",
       "      <td>0.0</td>\n",
       "      <td>0.0</td>\n",
       "      <td>800.0</td>\n",
       "      <td>1.0</td>\n",
       "    </tr>\n",
       "    <tr>\n",
       "      <th>39047</th>\n",
       "      <td>980</td>\n",
       "      <td>2022-10-19</td>\n",
       "      <td>S2</td>\n",
       "      <td>0.0</td>\n",
       "      <td>0.0</td>\n",
       "      <td>0.0</td>\n",
       "      <td>800.0</td>\n",
       "      <td>1.0</td>\n",
       "    </tr>\n",
       "    <tr>\n",
       "      <th>39048</th>\n",
       "      <td>980</td>\n",
       "      <td>2022-10-23</td>\n",
       "      <td>S1</td>\n",
       "      <td>0.0</td>\n",
       "      <td>0.0</td>\n",
       "      <td>0.0</td>\n",
       "      <td>1200.0</td>\n",
       "      <td>1.0</td>\n",
       "    </tr>\n",
       "    <tr>\n",
       "      <th>39049</th>\n",
       "      <td>980</td>\n",
       "      <td>2022-10-28</td>\n",
       "      <td>S1</td>\n",
       "      <td>0.0</td>\n",
       "      <td>0.0</td>\n",
       "      <td>0.0</td>\n",
       "      <td>200.0</td>\n",
       "      <td>1.0</td>\n",
       "    </tr>\n",
       "    <tr>\n",
       "      <th>39050</th>\n",
       "      <td>980</td>\n",
       "      <td>2022-10-31</td>\n",
       "      <td>S1</td>\n",
       "      <td>0.0</td>\n",
       "      <td>0.0</td>\n",
       "      <td>0.0</td>\n",
       "      <td>1100.0</td>\n",
       "      <td>1.0</td>\n",
       "    </tr>\n",
       "  </tbody>\n",
       "</table>\n",
       "</div>"
      ],
      "text/plain": [
       "       User Id        Date Slot  Games Played  Deposit_Amount  Deposit_Count  \\\n",
       "39046      980  2022-10-19   S1           0.0             0.0            0.0   \n",
       "39047      980  2022-10-19   S2           0.0             0.0            0.0   \n",
       "39048      980  2022-10-23   S1           0.0             0.0            0.0   \n",
       "39049      980  2022-10-28   S1           0.0             0.0            0.0   \n",
       "39050      980  2022-10-31   S1           0.0             0.0            0.0   \n",
       "\n",
       "       withdrawal_Amount  withdrawal_Count  \n",
       "39046              800.0               1.0  \n",
       "39047              800.0               1.0  \n",
       "39048             1200.0               1.0  \n",
       "39049              200.0               1.0  \n",
       "39050             1100.0               1.0  "
      ]
     },
     "execution_count": 29,
     "metadata": {},
     "output_type": "execute_result"
    }
   ],
   "source": [
    "merged_df.tail()"
   ]
  },
  {
   "cell_type": "code",
   "execution_count": 30,
   "id": "4ccbeebb-cd55-48c8-af9d-691360105e63",
   "metadata": {},
   "outputs": [
    {
     "data": {
      "text/plain": [
       "User Id              0\n",
       "Date                 0\n",
       "Slot                 0\n",
       "Games Played         0\n",
       "Deposit_Amount       0\n",
       "Deposit_Count        0\n",
       "withdrawal_Amount    0\n",
       "withdrawal_Count     0\n",
       "dtype: int64"
      ]
     },
     "execution_count": 30,
     "metadata": {},
     "output_type": "execute_result"
    }
   ],
   "source": [
    "merged_df.isnull().sum()"
   ]
  },
  {
   "cell_type": "code",
   "execution_count": 31,
   "id": "64ae77f2-7964-4d82-8daf-a648b8d8fd87",
   "metadata": {},
   "outputs": [
    {
     "data": {
      "text/plain": [
       "withdrawal_Count\n",
       "0.0    35948\n",
       "1.0     2722\n",
       "2.0      314\n",
       "3.0       57\n",
       "4.0        7\n",
       "5.0        2\n",
       "7.0        1\n",
       "Name: count, dtype: int64"
      ]
     },
     "execution_count": 31,
     "metadata": {},
     "output_type": "execute_result"
    }
   ],
   "source": [
    "merged_df['withdrawal_Count'].value_counts()"
   ]
  },
  {
   "cell_type": "markdown",
   "id": "a12f070e-254c-46e9-9bcd-d31f98f7fdd5",
   "metadata": {},
   "source": [
    "### PART A - Calculating Loyalty Point"
   ]
  },
  {
   "cell_type": "code",
   "execution_count": 32,
   "id": "bab5c345-0799-4409-b933-d5c390d7010b",
   "metadata": {},
   "outputs": [],
   "source": [
    "# Creating a function to find the Loyality point"
   ]
  },
  {
   "cell_type": "code",
   "execution_count": 33,
   "id": "76870d06-9086-4234-9dc0-a460854e4d33",
   "metadata": {},
   "outputs": [],
   "source": [
    "def loyalty_point_by_slot (merged_df,date_str,slot):\n",
    "    weights = {\n",
    "        'deposit_amt':0.01,\n",
    "        'withdrawal_amt' : 0.005,\n",
    "        'deposit_count_minus_withdrawal_count' : 0.001,\n",
    "        'games_played' : 0.2\n",
    "    }\n",
    "    date = pd.to_datetime(date_str).date()\n",
    "    \n",
    "    # creating a data frame to filter out the data as per the slot and date\n",
    "    slot_date_df = merged_df[\n",
    "        (merged_df['Date'].dt.date == date) &\n",
    "        (merged_df['Slot'] == slot)\n",
    "    ].copy()\n",
    "    slot_date_df.fillna(0,inplace=True)\n",
    "    \n",
    "    # calculating the Loyalty point\n",
    "    slot_date_df['Loyalty Point'] = (\n",
    "        weights['deposit_amt']*slot_date_df['Deposit_Amount']+\n",
    "        weights['withdrawal_amt']*slot_date_df['withdrawal_Amount']+\n",
    "        weights['deposit_count_minus_withdrawal_count']*(slot_date_df['Deposit_Count']-slot_date_df['withdrawal_Count']).clip(lower=0)+\n",
    "        weights['games_played']*slot_date_df['Games Played']\n",
    "    )\n",
    "\n",
    "    # return loyalty points\n",
    "    return slot_date_df.sort_values(by='Loyalty Point',ascending=False)"
   ]
  },
  {
   "cell_type": "code",
   "execution_count": 34,
   "id": "7333d2e4-e190-46d1-b1ec-c0e4714c43d0",
   "metadata": {},
   "outputs": [],
   "source": [
    "merged_df['Date'] = pd.to_datetime(merged_df['Date'],errors='coerce')"
   ]
  },
  {
   "cell_type": "code",
   "execution_count": 35,
   "id": "72fe9778-0737-43a3-aa29-5e852219d797",
   "metadata": {},
   "outputs": [],
   "source": [
    "slots = [\n",
    "    (\"2022-10-02\",\"S1\"),\n",
    "    (\"2022-10-16\",\"S2\"),\n",
    "    (\"2022-10-18\",\"S1\"),\n",
    "    (\"2022-10-26\",\"S2\")\n",
    "]"
   ]
  },
  {
   "cell_type": "code",
   "execution_count": 36,
   "id": "bc21a936-08fd-467d-ba7d-c6653ae29147",
   "metadata": {},
   "outputs": [
    {
     "name": "stdout",
     "output_type": "stream",
     "text": [
      "\n",
      " date 2022-10-02...... Slot S1 \n",
      "       User Id  Loyalty Point\n",
      "38816      634       1478.355\n",
      "36894      672       1300.000\n",
      "18590      566       1250.406\n",
      "38093      949        677.500\n",
      "14334      446        550.202\n",
      "\n",
      " date 2022-10-16...... Slot S2 \n",
      "       User Id  Loyalty Point\n",
      "38826      634       1491.555\n",
      "35019      212        999.991\n",
      "34395       99        980.002\n",
      "34088       28        900.004\n",
      "18618      566        880.203\n",
      "\n",
      " date 2022-10-18...... Slot S1 \n",
      "       User Id  Loyalty Point\n",
      "38827      634       2723.100\n",
      "6516       208       1701.401\n",
      "22617      673        900.801\n",
      "34759      162        770.000\n",
      "38605      245        750.000\n",
      "\n",
      " date 2022-10-26...... Slot S2 \n",
      "       User Id  Loyalty Point\n",
      "37144      714       2000.001\n",
      "11627      369       1501.915\n",
      "21083      634       1237.010\n",
      "17583      538       1200.403\n",
      "34017        2        900.002\n"
     ]
    }
   ],
   "source": [
    "for date_str, slot in slots:\n",
    "    print(f'\\n date {date_str}...... Slot {slot} ')\n",
    "    result = loyalty_point_by_slot(merged_df,date_str,slot)\n",
    "    print(result[['User Id','Loyalty Point']] .head())"
   ]
  },
  {
   "cell_type": "code",
   "execution_count": 37,
   "id": "9631070c-b071-4f52-8e9e-d16f7da07ca6",
   "metadata": {},
   "outputs": [],
   "source": [
    "#calculating the loyalty point of players in the month of october and give ranking"
   ]
  },
  {
   "cell_type": "code",
   "execution_count": 38,
   "id": "29630b7b-34e4-4bf1-806c-b99dd3585624",
   "metadata": {},
   "outputs": [],
   "source": [
    "october_data = merged_df[\n",
    "    (merged_df['Date'].dt.year ==2022) &\n",
    "    (merged_df['Date'].dt.month == 10)\n",
    "].copy()"
   ]
  },
  {
   "cell_type": "code",
   "execution_count": 39,
   "id": "2f0448ed-7b28-4ddd-a8a9-e59ffcf7cb82",
   "metadata": {},
   "outputs": [],
   "source": [
    "results = []\n",
    "\n",
    "for _, row in october_data[['Date','Slot']].drop_duplicates().iterrows():\n",
    "    date_str = row['Date'].strftime('%Y-%m-%d')\n",
    "    slot = row['Slot']\n",
    "    df_slot =loyalty_point_by_slot(merged_df,date_str,slot)\n",
    "    results.append(df_slot[['User Id','Loyalty Point','Games Played']])"
   ]
  },
  {
   "cell_type": "code",
   "execution_count": 40,
   "id": "ff95f4d1-761d-480e-9c04-9e879ccf7bb4",
   "metadata": {},
   "outputs": [],
   "source": [
    "combined = pd.concat(results)"
   ]
  },
  {
   "cell_type": "code",
   "execution_count": 41,
   "id": "32420fb3-fe83-4ab3-82f8-d0080d90bc9d",
   "metadata": {},
   "outputs": [],
   "source": [
    "final_result = combined.groupby('User Id').agg({\n",
    "    \"Loyalty Point\" : \"sum\",\n",
    "    \"Games Played\" : \"sum\"\n",
    "}).reset_index()"
   ]
  },
  {
   "cell_type": "code",
   "execution_count": 42,
   "id": "f9f21c69-2512-490b-a88e-bf8b9616e088",
   "metadata": {},
   "outputs": [],
   "source": [
    "final_result =final_result.sort_values(by=['Loyalty Point','Games Played'],ascending=[False,False])\n",
    "final_result['Rank'] = range(1,len(final_result)+1)"
   ]
  },
  {
   "cell_type": "code",
   "execution_count": 43,
   "id": "ad609d4b-0479-4b02-aacb-a03f59ef3677",
   "metadata": {},
   "outputs": [
    {
     "name": "stdout",
     "output_type": "stream",
     "text": [
      "     Rank  User Id  Loyalty Point  Games Played\n",
      "634     1      634      83843.326          24.0\n",
      "99      2       99      23665.744          10.0\n",
      "672     3      672      22757.783          10.0\n",
      "212     4      212      22199.286           1.0\n",
      "740     5      740      19211.826           2.0\n"
     ]
    }
   ],
   "source": [
    "print(final_result[['Rank','User Id','Loyalty Point','Games Played']].head())"
   ]
  },
  {
   "cell_type": "code",
   "execution_count": 44,
   "id": "c349b5d5-c984-4df5-857b-3ef4a0fd19e4",
   "metadata": {},
   "outputs": [],
   "source": [
    "#Calculating Average Deposit amount"
   ]
  },
  {
   "cell_type": "code",
   "execution_count": 45,
   "id": "645e9ecc-d782-4dff-a1eb-fa5aff4e592c",
   "metadata": {},
   "outputs": [],
   "source": [
    "average_deposit = deposit_df['Deposit'].mean()"
   ]
  },
  {
   "cell_type": "code",
   "execution_count": 46,
   "id": "9999b566-5207-40c6-b348-2fc51209c656",
   "metadata": {},
   "outputs": [
    {
     "name": "stdout",
     "output_type": "stream",
     "text": [
      "Average Deposit Amount :  5492.19\n"
     ]
    }
   ],
   "source": [
    "print(\"Average Deposit Amount : \",round(average_deposit,2))"
   ]
  },
  {
   "cell_type": "code",
   "execution_count": 47,
   "id": "0e1f2784-d573-40cb-adb9-8fb4cf3908d0",
   "metadata": {},
   "outputs": [],
   "source": [
    "# Average deposit amount per user in a month."
   ]
  },
  {
   "cell_type": "code",
   "execution_count": 48,
   "id": "95db5592-4899-4a78-96b7-7111bc13f399",
   "metadata": {},
   "outputs": [],
   "source": [
    "deposit_df['Datetime'] = pd.to_datetime(deposit_df['Datetime'])"
   ]
  },
  {
   "cell_type": "code",
   "execution_count": 49,
   "id": "4f7a89fa-1edd-4222-ac0c-9a5fee7a7ed9",
   "metadata": {},
   "outputs": [],
   "source": [
    "deposit_df['YearMonth'] = deposit_df['Datetime'].dt.to_period('M')"
   ]
  },
  {
   "cell_type": "code",
   "execution_count": 50,
   "id": "9df948b1-9267-45bf-b325-d38213e0b973",
   "metadata": {},
   "outputs": [],
   "source": [
    "monthly_deposit = deposit_df.groupby(['User Id','YearMonth'])['Deposit'].sum().reset_index()"
   ]
  },
  {
   "cell_type": "code",
   "execution_count": 51,
   "id": "5e092fa9-78b3-4909-a6f6-9b2f487e5168",
   "metadata": {},
   "outputs": [],
   "source": [
    "average_monthly_deposit = monthly_deposit.groupby('User Id')['Deposit'].mean().reset_index()"
   ]
  },
  {
   "cell_type": "code",
   "execution_count": 52,
   "id": "2a954f76-b952-447f-aeef-3573554c1929",
   "metadata": {},
   "outputs": [],
   "source": [
    "average_monthly_deposit.columns = ['User Id','Avg Monthly Deposit']"
   ]
  },
  {
   "cell_type": "code",
   "execution_count": 53,
   "id": "3e56d388-5b74-4652-b180-ca4888f051f9",
   "metadata": {},
   "outputs": [
    {
     "data": {
      "text/html": [
       "<div>\n",
       "<style scoped>\n",
       "    .dataframe tbody tr th:only-of-type {\n",
       "        vertical-align: middle;\n",
       "    }\n",
       "\n",
       "    .dataframe tbody tr th {\n",
       "        vertical-align: top;\n",
       "    }\n",
       "\n",
       "    .dataframe thead th {\n",
       "        text-align: right;\n",
       "    }\n",
       "</style>\n",
       "<table border=\"1\" class=\"dataframe\">\n",
       "  <thead>\n",
       "    <tr style=\"text-align: right;\">\n",
       "      <th></th>\n",
       "      <th>User Id</th>\n",
       "      <th>Avg Monthly Deposit</th>\n",
       "    </tr>\n",
       "  </thead>\n",
       "  <tbody>\n",
       "    <tr>\n",
       "      <th>0</th>\n",
       "      <td>1</td>\n",
       "      <td>5000.0</td>\n",
       "    </tr>\n",
       "    <tr>\n",
       "      <th>1</th>\n",
       "      <td>2</td>\n",
       "      <td>567000.0</td>\n",
       "    </tr>\n",
       "    <tr>\n",
       "      <th>2</th>\n",
       "      <td>3</td>\n",
       "      <td>40000.0</td>\n",
       "    </tr>\n",
       "    <tr>\n",
       "      <th>3</th>\n",
       "      <td>4</td>\n",
       "      <td>1750.0</td>\n",
       "    </tr>\n",
       "    <tr>\n",
       "      <th>4</th>\n",
       "      <td>5</td>\n",
       "      <td>74100.0</td>\n",
       "    </tr>\n",
       "  </tbody>\n",
       "</table>\n",
       "</div>"
      ],
      "text/plain": [
       "   User Id  Avg Monthly Deposit\n",
       "0        1               5000.0\n",
       "1        2             567000.0\n",
       "2        3              40000.0\n",
       "3        4               1750.0\n",
       "4        5              74100.0"
      ]
     },
     "execution_count": 53,
     "metadata": {},
     "output_type": "execute_result"
    }
   ],
   "source": [
    "average_monthly_deposit.head()"
   ]
  },
  {
   "cell_type": "code",
   "execution_count": 54,
   "id": "3e7c0855-4fec-4197-b7ac-91166b660527",
   "metadata": {},
   "outputs": [],
   "source": [
    "# Average number of games playedby user."
   ]
  },
  {
   "cell_type": "code",
   "execution_count": 55,
   "id": "8058addc-0b81-4ffd-9d71-d18036565246",
   "metadata": {},
   "outputs": [],
   "source": [
    "game_df['Datetime'] = pd.to_datetime(game_df['Datetime'])"
   ]
  },
  {
   "cell_type": "code",
   "execution_count": 56,
   "id": "6bc1b7af-3130-4054-8fe1-2406206572d6",
   "metadata": {},
   "outputs": [],
   "source": [
    "game_per_user = game_df.groupby('User Id')['Games Played'].sum().reset_index()"
   ]
  },
  {
   "cell_type": "code",
   "execution_count": 57,
   "id": "90bfee64-d6b1-4526-a1e5-b2dca259c281",
   "metadata": {},
   "outputs": [],
   "source": [
    "average_game_per_user = game_per_user['Games Played'].mean()"
   ]
  },
  {
   "cell_type": "code",
   "execution_count": 58,
   "id": "7406aa02-1197-4811-a988-f61e10b7cbc9",
   "metadata": {},
   "outputs": [
    {
     "name": "stdout",
     "output_type": "stream",
     "text": [
      "Average number of games played by user :  355.27\n"
     ]
    }
   ],
   "source": [
    "print('Average number of games played by user : ',round(average_game_per_user,2))"
   ]
  },
  {
   "cell_type": "markdown",
   "id": "93100925-c51c-46cf-8552-37771aa7f8a7",
   "metadata": {},
   "source": [
    "### Part B"
   ]
  },
  {
   "cell_type": "code",
   "execution_count": 59,
   "id": "f4dc2b33-11d2-43cc-ba8c-c43fd0cd3c96",
   "metadata": {},
   "outputs": [],
   "source": [
    "# calculating the bonus for first 50 players based on there loyalty point"
   ]
  },
  {
   "cell_type": "code",
   "execution_count": 60,
   "id": "0c5bd74c-ea45-4fd7-a25b-0fb31563f9af",
   "metadata": {},
   "outputs": [],
   "source": [
    "top_50 = final_result.sort_values(by=['Loyalty Point','Games Played'],ascending=[False,False]).head(50).copy()"
   ]
  },
  {
   "cell_type": "code",
   "execution_count": 61,
   "id": "3bbbf3da-37c3-45d7-8e73-f393c402d259",
   "metadata": {},
   "outputs": [],
   "source": [
    "total_loyalty_point = top_50['Loyalty Point'].sum()"
   ]
  },
  {
   "cell_type": "code",
   "execution_count": 62,
   "id": "3108cde3-6a53-4eb4-aef5-5ca2a056f928",
   "metadata": {},
   "outputs": [],
   "source": [
    "top_50['Bonus'] = (top_50['Loyalty Point']/total_loyalty_point)*50000"
   ]
  },
  {
   "cell_type": "code",
   "execution_count": 63,
   "id": "0da24aec-6ece-4508-ae23-f94171599049",
   "metadata": {},
   "outputs": [],
   "source": [
    "top_50['Bonus'] = top_50['Bonus'].round(2)"
   ]
  },
  {
   "cell_type": "code",
   "execution_count": 64,
   "id": "2599cc46-9a9b-4bfe-8449-1a42e8d8a4a4",
   "metadata": {},
   "outputs": [
    {
     "data": {
      "text/html": [
       "<div>\n",
       "<style scoped>\n",
       "    .dataframe tbody tr th:only-of-type {\n",
       "        vertical-align: middle;\n",
       "    }\n",
       "\n",
       "    .dataframe tbody tr th {\n",
       "        vertical-align: top;\n",
       "    }\n",
       "\n",
       "    .dataframe thead th {\n",
       "        text-align: right;\n",
       "    }\n",
       "</style>\n",
       "<table border=\"1\" class=\"dataframe\">\n",
       "  <thead>\n",
       "    <tr style=\"text-align: right;\">\n",
       "      <th></th>\n",
       "      <th>Rank</th>\n",
       "      <th>User Id</th>\n",
       "      <th>Loyalty Point</th>\n",
       "      <th>Games Played</th>\n",
       "      <th>Bonus</th>\n",
       "    </tr>\n",
       "  </thead>\n",
       "  <tbody>\n",
       "    <tr>\n",
       "      <th>634</th>\n",
       "      <td>1</td>\n",
       "      <td>634</td>\n",
       "      <td>83843.326</td>\n",
       "      <td>24.0</td>\n",
       "      <td>6638.86</td>\n",
       "    </tr>\n",
       "    <tr>\n",
       "      <th>99</th>\n",
       "      <td>2</td>\n",
       "      <td>99</td>\n",
       "      <td>23665.744</td>\n",
       "      <td>10.0</td>\n",
       "      <td>1873.89</td>\n",
       "    </tr>\n",
       "    <tr>\n",
       "      <th>672</th>\n",
       "      <td>3</td>\n",
       "      <td>672</td>\n",
       "      <td>22757.783</td>\n",
       "      <td>10.0</td>\n",
       "      <td>1802.00</td>\n",
       "    </tr>\n",
       "    <tr>\n",
       "      <th>212</th>\n",
       "      <td>4</td>\n",
       "      <td>212</td>\n",
       "      <td>22199.286</td>\n",
       "      <td>1.0</td>\n",
       "      <td>1757.78</td>\n",
       "    </tr>\n",
       "    <tr>\n",
       "      <th>740</th>\n",
       "      <td>5</td>\n",
       "      <td>740</td>\n",
       "      <td>19211.826</td>\n",
       "      <td>2.0</td>\n",
       "      <td>1521.23</td>\n",
       "    </tr>\n",
       "  </tbody>\n",
       "</table>\n",
       "</div>"
      ],
      "text/plain": [
       "     Rank  User Id  Loyalty Point  Games Played    Bonus\n",
       "634     1      634      83843.326          24.0  6638.86\n",
       "99      2       99      23665.744          10.0  1873.89\n",
       "672     3      672      22757.783          10.0  1802.00\n",
       "212     4      212      22199.286           1.0  1757.78\n",
       "740     5      740      19211.826           2.0  1521.23"
      ]
     },
     "execution_count": 64,
     "metadata": {},
     "output_type": "execute_result"
    }
   ],
   "source": [
    "top_50[['Rank','User Id','Loyalty Point','Games Played','Bonus']].head()"
   ]
  },
  {
   "cell_type": "markdown",
   "id": "068bac5f-a969-4849-a5d5-16cb08916e27",
   "metadata": {},
   "source": [
    "### Part C"
   ]
  },
  {
   "cell_type": "raw",
   "id": "37166d0a-1637-42d8-85c1-6256a1dac424",
   "metadata": {},
   "source": [
    "Loyalty point formula is fair or unfair?\n",
    "In the loyalty point formula, the weights assigned to deposits,withdrawal and other activities are fair.This is because more weight is given to the number of games played, which reflects user engagement. This ensure that players are rewarded primarily for their active participation rather than just financial transactions. therefore, my opinion is the loyalty point formula is fair."
   ]
  },
  {
   "cell_type": "raw",
   "id": "5ec7cb50-d0f3-40ae-a4dd-7886763e9838",
   "metadata": {},
   "source": [
    "Suggesion forloyalty point more robust?\n",
    "To make the Loyalty Point formula more robust, we should consider the win to loss ratio and also give importance to the number of active days. This should ensure that the player's consistent participation and performance in the game.\n"
   ]
  },
  {
   "cell_type": "code",
   "execution_count": null,
   "id": "6b11fa9e-2112-4d4d-8de6-8434f509d1aa",
   "metadata": {},
   "outputs": [],
   "source": []
  }
 ],
 "metadata": {
  "kernelspec": {
   "display_name": "Python 3 (ipykernel)",
   "language": "python",
   "name": "python3"
  },
  "language_info": {
   "codemirror_mode": {
    "name": "ipython",
    "version": 3
   },
   "file_extension": ".py",
   "mimetype": "text/x-python",
   "name": "python",
   "nbconvert_exporter": "python",
   "pygments_lexer": "ipython3",
   "version": "3.11.7"
  }
 },
 "nbformat": 4,
 "nbformat_minor": 5
}
